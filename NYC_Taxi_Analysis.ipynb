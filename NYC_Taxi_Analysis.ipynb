{
 "cells": [
  {
   "cell_type": "code",
   "execution_count": 0,
   "metadata": {
    "application/vnd.databricks.v1+cell": {
     "cellMetadata": {
      "byteLimit": 2048000,
      "rowLimit": 10000
     },
     "inputWidgets": {},
     "nuid": "1483c453-cc54-448c-b84a-31d71050dfdb",
     "showTitle": false,
     "tableResultSettingsMap": {},
     "title": ""
    }
   },
   "outputs": [
    {
     "output_type": "stream",
     "name": "stdout",
     "output_type": "stream",
     "text": [
      "+--------+--------------------+---------------------+---------------+-------------+----------+------------------+------------+------------+------------+-----------+-----+-------+----------+------------+---------------------+------------+--------------------+-----------+\n|VendorID|tpep_pickup_datetime|tpep_dropoff_datetime|passenger_count|trip_distance|RatecodeID|store_and_fwd_flag|PULocationID|DOLocationID|payment_type|fare_amount|extra|mta_tax|tip_amount|tolls_amount|improvement_surcharge|total_amount|congestion_surcharge|airport_fee|\n+--------+--------------------+---------------------+---------------+-------------+----------+------------------+------------+------------+------------+-----------+-----+-------+----------+------------+---------------------+------------+--------------------+-----------+\n|       1| 2019-01-01 00:57:47|  2019-01-01 01:12:37|            1.0|          2.4|       1.0|                 N|         162|         107|           1|       11.5|  0.5|    0.5|      2.55|         0.0|                  0.3|       15.35|                null|       null|\n|       2| 2019-01-01 00:54:30|  2019-01-01 01:09:16|            1.0|         4.73|       1.0|                 N|         151|         243|           2|       16.0|  0.5|    0.5|       0.0|         0.0|                  0.3|        17.3|                null|       null|\n|       1| 2019-01-01 00:58:41|  2019-01-01 01:05:14|            1.0|          1.7|       1.0|                 N|          50|         239|           1|        7.5|  0.5|    0.5|       1.7|         0.0|                  0.3|        10.5|                null|       null|\n|       2| 2019-01-01 00:22:48|  2019-01-01 00:31:15|            1.0|         1.78|       1.0|                 N|          43|          43|           1|        8.5|  0.5|    0.5|      1.96|         0.0|                  0.3|       11.76|                null|       null|\n|       1| 2019-01-01 00:07:49|  2019-01-01 00:11:46|            1.0|          1.1|       1.0|                 N|         263|          75|           1|        5.5|  0.5|    0.5|      1.35|         0.0|                  0.3|        8.15|                null|       null|\n+--------+--------------------+---------------------+---------------+-------------+----------+------------------+------------+------------+------------+-----------+-----+-------+----------+------------+---------------------+------------+--------------------+-----------+\nonly showing top 5 rows\n\nroot\n |-- VendorID: long (nullable = true)\n |-- tpep_pickup_datetime: timestamp (nullable = true)\n |-- tpep_dropoff_datetime: timestamp (nullable = true)\n |-- passenger_count: double (nullable = true)\n |-- trip_distance: double (nullable = true)\n |-- RatecodeID: double (nullable = true)\n |-- store_and_fwd_flag: string (nullable = true)\n |-- PULocationID: long (nullable = true)\n |-- DOLocationID: long (nullable = true)\n |-- payment_type: long (nullable = true)\n |-- fare_amount: double (nullable = true)\n |-- extra: double (nullable = true)\n |-- mta_tax: double (nullable = true)\n |-- tip_amount: double (nullable = true)\n |-- tolls_amount: double (nullable = true)\n |-- improvement_surcharge: double (nullable = true)\n |-- total_amount: double (nullable = true)\n |-- congestion_surcharge: double (nullable = true)\n |-- airport_fee: integer (nullable = true)\n\n"
     ]
    }
   ],
   "source": [
    "from pyspark.sql import SparkSession\n",
    "\n",
    "# Initialize Spark session\n",
    "spark = SparkSession.builder.appName(\"NYC_Taxi_Analysis\").getOrCreate()\n",
    "\n",
    "# Load Parquet file\n",
    "file_path = \"/FileStore/tables/yellow_tripdata_2019_01.parquet\"  \n",
    "taxi_df = spark.read.parquet(file_path)\n",
    "\n",
    "# Sample 1% of the data (~70,000 rows)\n",
    "sampled_df = taxi_df.sample(fraction=0.01, seed=42)\n",
    "\n",
    "# Save the sample as a new Parquet file to avoid reloading the big file\n",
    "sampled_df.write.mode(\"overwrite\").parquet(\"/FileStore/tables/yellow_tripdata_2019_sample.parquet\")\n",
    "\n",
    "# Load the sampled data for analysis\n",
    "taxi_df = spark.read.parquet(\"/FileStore/tables/yellow_tripdata_2019_sample.parquet\")\n",
    "\n",
    "# Show first few rows and schema\n",
    "taxi_df.show(5)\n",
    "taxi_df.printSchema()"
   ]
  },
  {
   "cell_type": "code",
   "execution_count": 0,
   "metadata": {
    "application/vnd.databricks.v1+cell": {
     "cellMetadata": {
      "byteLimit": 2048000,
      "rowLimit": 10000
     },
     "inputWidgets": {},
     "nuid": "bb16e734-f67a-4f1e-b8bc-4d1bbe840ea8",
     "showTitle": false,
     "tableResultSettingsMap": {},
     "title": ""
    }
   },
   "outputs": [
    {
     "output_type": "stream",
     "name": "stdout",
     "output_type": "stream",
     "text": [
      "Cleaned rows: 76653\n"
     ]
    }
   ],
   "source": [
    "from pyspark.sql.functions import col\n",
    "\n",
    "# Remove nulls and filter outliers (e.g., negative fares or distances)\n",
    "cleaned_df = taxi_df.dropna(subset=[\"trip_distance\", \"total_amount\"]) \\\n",
    "                    .filter((col(\"trip_distance\") > 0) & (col(\"total_amount\") > 0) & \n",
    "                            (col(\"trip_distance\") < 100) & (col(\"total_amount\") < 1000))\n",
    "\n",
    "# Cache the cleaned DataFrame for performance\n",
    "cleaned_df.cache()\n",
    "\n",
    "# Show row count\n",
    "print(f\"Cleaned rows: {cleaned_df.count()}\")"
   ]
  },
  {
   "cell_type": "code",
   "execution_count": 0,
   "metadata": {
    "application/vnd.databricks.v1+cell": {
     "cellMetadata": {
      "byteLimit": 2048000,
      "rowLimit": 10000
     },
     "inputWidgets": {},
     "nuid": "a0afaa01-422d-4cf2-ab1d-1b4423415e63",
     "showTitle": false,
     "tableResultSettingsMap": {},
     "title": ""
    }
   },
   "outputs": [
    {
     "output_type": "stream",
     "name": "stdout",
     "output_type": "stream",
     "text": [
      "+-----------+------------------+\n|pickup_hour|          avg_fare|\n+-----------+------------------+\n|          0|16.189309683604822|\n|          1|15.726210884353534|\n|          2|  15.3633812260535|\n|          3|15.157526315789418|\n|          4|17.969626485568742|\n|          5| 18.92472703062573|\n|          6|15.590855986118928|\n|          7|15.262665589660871|\n|          8| 14.76081880612816|\n|          9|15.135892661555653|\n|         10|14.554371291325527|\n|         11|14.287679005674502|\n|         12|14.930790289256585|\n|         13| 14.83658584859025|\n|         14|15.915514671635398|\n|         15|15.519759510275993|\n|         16|16.612124970188948|\n|         17| 15.86169971086385|\n|         18|15.121337317893817|\n|         19| 15.17143154823977|\n+-----------+------------------+\nonly showing top 20 rows\n\n"
     ]
    }
   ],
   "source": [
    "from pyspark.sql.functions import hour, avg\n",
    "\n",
    "# Extract hour from pickup time and calculate average fare\n",
    "agg_df = cleaned_df.withColumn(\"pickup_hour\", hour(\"tpep_pickup_datetime\")) \\\n",
    "                   .groupBy(\"pickup_hour\") \\\n",
    "                   .agg(avg(\"total_amount\").alias(\"avg_fare\")) \\\n",
    "                   .orderBy(\"pickup_hour\")\n",
    "\n",
    "# Show results\n",
    "agg_df.show()"
   ]
  },
  {
   "cell_type": "code",
   "execution_count": 0,
   "metadata": {
    "application/vnd.databricks.v1+cell": {
     "cellMetadata": {
      "byteLimit": 2048000,
      "rowLimit": 10000
     },
     "inputWidgets": {},
     "nuid": "0c26a8f9-a437-482f-b84d-083570fb8269",
     "showTitle": false,
     "tableResultSettingsMap": {},
     "title": ""
    }
   },
   "outputs": [
    {
     "output_type": "display_data",
     "data": {
      "image/png": "[encoded data removed]"
     },
     "metadata": {
      "application/vnd.databricks.v1+output": {
       "addedWidgets": {},
       "arguments": {},
       "data": "data:image/png;base64,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\n",
       "datasetInfos": [],
       "metadata": {},
       "removedWidgets": [],
       "type": "image"
      }
     },
     "output_type": "display_data"
    },
    {
     "output_type": "display_data",
     "data": {
      "text/html": [
       "<style scoped>\n",
       "  .table-result-container {\n",
       "    max-height: 300px;\n",
       "    overflow: auto;\n",
       "  }\n",
       "  table, th, td {\n",
       "    border: 1px solid black;\n",
       "    border-collapse: collapse;\n",
       "  }\n",
       "  th, td {\n",
       "    padding: 5px;\n",
       "  }\n",
       "  th {\n",
       "    text-align: left;\n",
       "  }\n",
       "</style><div class='table-result-container'><table class='table-result'><thead style='background-color: white'><tr><th>pickup_hour</th><th>avg_fare</th></tr></thead><tbody><tr><td>0</td><td>16.189309683604822</td></tr><tr><td>1</td><td>15.726210884353534</td></tr><tr><td>2</td><td>15.3633812260535</td></tr><tr><td>3</td><td>15.157526315789418</td></tr><tr><td>4</td><td>17.969626485568742</td></tr><tr><td>5</td><td>18.92472703062573</td></tr><tr><td>6</td><td>15.590855986118928</td></tr><tr><td>7</td><td>15.262665589660871</td></tr><tr><td>8</td><td>14.76081880612816</td></tr><tr><td>9</td><td>15.135892661555653</td></tr><tr><td>10</td><td>14.554371291325527</td></tr><tr><td>11</td><td>14.287679005674502</td></tr><tr><td>12</td><td>14.930790289256585</td></tr><tr><td>13</td><td>14.83658584859025</td></tr><tr><td>14</td><td>15.915514671635398</td></tr><tr><td>15</td><td>15.519759510275993</td></tr><tr><td>16</td><td>16.612124970188948</td></tr><tr><td>17</td><td>15.86169971086385</td></tr><tr><td>18</td><td>15.121337317893817</td></tr><tr><td>19</td><td>15.17143154823977</td></tr><tr><td>20</td><td>15.28981622151477</td></tr><tr><td>21</td><td>16.169540088539584</td></tr><tr><td>22</td><td>16.192560022334295</td></tr><tr><td>23</td><td>17.012165697674657</td></tr></tbody></table></div>"
      ]
     },
     "metadata": {
      "application/vnd.databricks.v1+output": {
       "addedWidgets": {},
       "aggData": [],
       "aggError": "",
       "aggOverflow": false,
       "aggSchema": [],
       "aggSeriesLimitReached": false,
       "aggType": "",
       "arguments": {},
       "columnCustomDisplayInfos": {},
       "data": [
        [
         0,
         16.189309683604822
        ],
        [
         1,
         15.726210884353534
        ],
        [
         2,
         15.3633812260535
        ],
        [
         3,
         15.157526315789418
        ],
        [
         4,
         17.969626485568742
        ],
        [
         5,
         18.92472703062573
        ],
        [
         6,
         15.590855986118928
        ],
        [
         7,
         15.262665589660871
        ],
        [
         8,
         14.76081880612816
        ],
        [
         9,
         15.135892661555653
        ],
        [
         10,
         14.554371291325527
        ],
        [
         11,
         14.287679005674502
        ],
        [
         12,
         14.930790289256585
        ],
        [
         13,
         14.83658584859025
        ],
        [
         14,
         15.915514671635398
        ],
        [
         15,
         15.519759510275993
        ],
        [
         16,
         16.612124970188948
        ],
        [
         17,
         15.86169971086385
        ],
        [
         18,
         15.121337317893817
        ],
        [
         19,
         15.17143154823977
        ],
        [
         20,
         15.28981622151477
        ],
        [
         21,
         16.169540088539584
        ],
        [
         22,
         16.192560022334295
        ],
        [
         23,
         17.012165697674657
        ]
       ],
       "datasetInfos": [],
       "dbfsResultPath": null,
       "isJsonSchema": true,
       "metadata": {},
       "overflow": false,
       "plotOptions": {
        "customPlotOptions": {},
        "displayType": "table",
        "pivotAggregation": null,
        "pivotColumns": null,
        "xColumns": null,
        "yColumns": null
       },
       "removedWidgets": [],
       "schema": [
        {
         "metadata": "{}",
         "name": "pickup_hour",
         "type": "\"integer\""
        },
        {
         "metadata": "{}",
         "name": "avg_fare",
         "type": "\"double\""
        }
       ],
       "type": "table"
      }
     },
     "output_type": "display_data"
    }
   ],
   "source": [
    "import matplotlib.pyplot as plt\n",
    "\n",
    "# Convert to Pandas for plotting\n",
    "pandas_df = agg_df.toPandas()\n",
    "\n",
    "# Plot average fare by hour\n",
    "plt.figure(figsize=(10, 6))\n",
    "plt.plot(pandas_df[\"pickup_hour\"], pandas_df[\"avg_fare\"], marker=\"o\")\n",
    "plt.title(\"Average Taxi Fare by Hour (2019)\")\n",
    "plt.xlabel(\"Hour of Day\")\n",
    "plt.ylabel(\"Average Fare ($)\")\n",
    "plt.grid(True)\n",
    "plt.show()\n",
    "\n",
    "# Alternative: Use Databricks display for built-in visualization\n",
    "display(agg_df) "
   ]
  },
  {
   "cell_type": "code",
   "execution_count": 0,
   "metadata": {
    "application/vnd.databricks.v1+cell": {
     "cellMetadata": {
      "byteLimit": 2048000,
      "rowLimit": 10000
     },
     "inputWidgets": {},
     "nuid": "c7c0c945-9b6a-41e5-a942-41463cee84b3",
     "showTitle": false,
     "tableResultSettingsMap": {},
     "title": ""
    }
   },
   "outputs": [
    {
     "output_type": "stream",
     "name": "stdout",
     "output_type": "stream",
     "text": [
      "+------------------+-----------+------------------+\n|          avg_fare|total_trips|      avg_distance|\n+------------------+-----------+------------------+\n|15.515149439693023|      76653|2.8322617510077692|\n+------------------+-----------+------------------+\n\n"
     ]
    }
   ],
   "source": [
    "# Basic stats (e.g., total trips, avg distance)\n",
    "stats_df = cleaned_df.agg({\"trip_distance\": \"avg\", \"total_amount\": \"avg\", \"VendorID\": \"count\"}) \\\n",
    "                     .withColumnRenamed(\"avg(trip_distance)\", \"avg_distance\") \\\n",
    "                     .withColumnRenamed(\"avg(total_amount)\", \"avg_fare\") \\\n",
    "                     .withColumnRenamed(\"count(VendorID)\", \"total_trips\")\n",
    "\n",
    "stats_df.show()"
   ]
  }
 ],
 "metadata": {
  "application/vnd.databricks.v1+notebook": {
   "computePreferences": null,
   "dashboards": [],
   "environmentMetadata": {
    "base_environment": "",
    "environment_version": "1"
   },
   "inputWidgetPreferences": null,
   "language": "python",
   "notebookMetadata": {
    "pythonIndentUnit": 4
   },
   "notebookName": "NYC_Taxi_Analysis",
   "widgets": {}
  }
 },
 "nbformat": 4,
 "nbformat_minor": 0
}
